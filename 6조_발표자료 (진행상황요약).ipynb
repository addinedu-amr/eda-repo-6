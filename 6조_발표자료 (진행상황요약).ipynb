{
 "cells": [
  {
   "cell_type": "markdown",
   "metadata": {},
   "source": [
    "# 서울시 교통 인프라를 분석 및 개선 방안 탐구\n",
    "#### Analysis on Seoul Traffic Infrastructure and suggesting solution\n",
    "\n",
    "---------------------------------\n",
    "\n",
    "> ### 6조\n",
    "> ### 팀명 \"이디야는 스타벅스를 따라했을까?\"  \n",
    "---------------------------------\n",
    "<br />\n",
    "<br />\n",
    "\n",
    "##  👯서울시 정책아카이브에 따르면\n",
    "<br />\n",
    "<br />\n",
    "<br />\n",
    "\n",
    "#### 서울은 2004년 대중교통체계 개편 이래, 지속적으로 인프라 및 제도개선을 해왔습니다.\n",
    "#### 그래서 서울의 교통정책은 편리성, 안정성, 정시성, 경제성 측면에서 국제적으로 높은 평가를 받고 있습니다.  \n",
    "\n",
    "<br />\n",
    "<br />\n",
    "<br />\n",
    "\n",
    "\n",
    "## 🤔정말 그럴까요?\n",
    "\n",
    "<br />\n",
    "<br />\n",
    "<br />\n",
    "\n",
    "#### 매일 대중교통을 이용하면서 교통의 불편함을 겪었던 저희 팀원들은 \n",
    "#### 서울의 교통인프라가 정말 높은 평가를 받을 만한지 궁금증이 생겼습니다. \n",
    "\n",
    "<br />\n",
    "<br />\n",
    "<br />\n",
    "\n",
    "## 📚그래서 \n",
    "\n",
    "#### 서울시의 교통인프라를 한 번 분석해보고, 이를 통해 다양한 개선 방안을 탐구해보고자 합니다.\n",
    "---------------------\n",
    "<br />\n",
    "<br />\n",
    "<br />"
   ]
  },
  {
   "cell_type": "markdown",
   "metadata": {},
   "source": [
    "\n",
    "# - 목차 -\n",
    "---------\n",
    "### 1. 왜 서울시의 주차장은 항상 부족할까??  \n",
    "(서론)\n",
    "\n",
    "    ㅇ 1.1 라이브러리 및 데이터 불러오기\n",
    "    ㅇ 1.2 데이터 전처리\n",
    "    ㅇ 1.3 데이터 분석\n",
    "    ㅇ 1.4 분석 결과 해석\n",
    "\n",
    "\n",
    "### 2. 편의시설이나 상업시설이 많은 지역의 교통인프라는 잘 되어 있을까?  \n",
    "(주차장의 데이터가 연결됨)\n",
    "\n",
    "    ㅇ 1.1 라이브러리 및 데이터 불러오기\n",
    "    ㅇ 1.2 데이터 전처리\n",
    "    ㅇ 1.3 데이터 분석\n",
    "    ㅇ 1.4 분석 결과 해석\n",
    "    \n",
    "\n",
    "### 3. 교통사고가 자주 발생하는 곳은 교통인프라가 좋지 않다?  \n",
    "(대중교통, 승용차 데이터가 연결됨)\n",
    "\n",
    "    ㅇ 1.1 라이브러리 및 데이터 불러오기\n",
    "    ㅇ 1.2 데이터 전처리\n",
    "    ㅇ 1.3 데이터 분석\n",
    "    ㅇ 1.4 분석 결과 해석\n",
    "\n",
    "\n",
    "### 4. 서울시의 교통인프라는 국제적으로 높은 평가를 받을만 할까? \n",
    "(주장의 결론 : 모든 데이터가 연결됨)\n",
    "\n",
    "    ㅇ 1.1 라이브러리 및 데이터 불러오기\n",
    "    ㅇ 1.2 데이터 전처리\n",
    "    ㅇ 1.3 데이터 분석\n",
    "    ㅇ 1.4 분석 결과 해석\n",
    " \n",
    " ### 5. 서울시의 교통인프라를 개선하기 위한 방법은 무엇이 있을까?\n",
    " (결론)\n",
    " \n",
    "     ㅇ 1.1 4에서 부족했던 부분을 보완하기 위한 방안 제시\n"
   ]
  },
  {
   "cell_type": "markdown",
   "metadata": {},
   "source": [
    "# 1. 라이브러리 및 데이터 불러오기"
   ]
  },
  {
   "cell_type": "markdown",
   "metadata": {},
   "source": [
    "## 1.1 라이브러리 패키지 불러오기"
   ]
  },
  {
   "cell_type": "code",
   "execution_count": null,
   "metadata": {},
   "outputs": [],
   "source": [
    "# 패키지 불러오기\n",
    "import pandas as pd\n",
    "import numpy as np\n",
    "import seaborn as sns\n",
    "import matplotlib.pyplot as plt"
   ]
  },
  {
   "cell_type": "markdown",
   "metadata": {},
   "source": [
    "## 1.2 AWS를 통해 사용할 데이터를 데이터베이스에 저장"
   ]
  },
  {
   "cell_type": "markdown",
   "metadata": {},
   "source": [
    "![image](https://user-images.githubusercontent.com/110883172/200243372-e38a7cbb-e8c4-4e2d-8bda-4f4bbf5bc55e.png)\n"
   ]
  },
  {
   "cell_type": "markdown",
   "metadata": {},
   "source": [
    "- csv, excel 파일을 데이터베이스상에서 작업하기 위한 환경을 구축하였습니다.\n",
    "- https://github.com/addineduteam/Traffic/tree/master/sql_editor"
   ]
  },
  {
   "cell_type": "markdown",
   "metadata": {},
   "source": [
    "# 2. 데이터 전처리"
   ]
  },
  {
   "cell_type": "markdown",
   "metadata": {},
   "source": [
    "## 2.1 활용 데이터\n",
    "\n",
    "- \n",
    "    https://\n",
    "-"
   ]
  },
  {
   "cell_type": "markdown",
   "metadata": {},
   "source": [
    "## 2.2 데이터 전처리"
   ]
  },
  {
   "cell_type": "code",
   "execution_count": 1,
   "metadata": {},
   "outputs": [
    {
     "ename": "SyntaxError",
     "evalue": "invalid syntax (863450984.py, line 1)",
     "output_type": "error",
     "traceback": [
      "\u001b[0;36m  Cell \u001b[0;32mIn [1], line 1\u001b[0;36m\u001b[0m\n\u001b[0;31m    =pd.read_csv()\u001b[0m\n\u001b[0m    ^\u001b[0m\n\u001b[0;31mSyntaxError\u001b[0m\u001b[0;31m:\u001b[0m invalid syntax\n"
     ]
    }
   ],
   "source": [
    "=pd.read_csv()"
   ]
  },
  {
   "cell_type": "markdown",
   "metadata": {},
   "source": [
    "## 3. 데이터 분석"
   ]
  },
  {
   "cell_type": "code",
   "execution_count": null,
   "metadata": {},
   "outputs": [],
   "source": [
    "현재 서울의 대중교통은 연간 40억 명이 이용하는 한국의 가장 대표적인 이동수단입니다."
   ]
  },
  {
   "cell_type": "markdown",
   "metadata": {},
   "source": [
    "## 4. 분석 결과 해석"
   ]
  },
  {
   "cell_type": "code",
   "execution_count": null,
   "metadata": {},
   "outputs": [],
   "source": []
  },
  {
   "cell_type": "markdown",
   "metadata": {},
   "source": [
    "## 5. 결과 해석에 따른 개선방안"
   ]
  },
  {
   "cell_type": "markdown",
   "metadata": {},
   "source": []
  },
  {
   "cell_type": "markdown",
   "metadata": {},
   "source": [
    "## 6. 참고자료"
   ]
  },
  {
   "cell_type": "markdown",
   "metadata": {},
   "source": []
  }
 ],
 "metadata": {
  "kernelspec": {
   "display_name": "Python 3 (ipykernel)",
   "language": "python",
   "name": "python3"
  },
  "language_info": {
   "codemirror_mode": {
    "name": "ipython",
    "version": 3
   },
   "file_extension": ".py",
   "mimetype": "text/x-python",
   "name": "python",
   "nbconvert_exporter": "python",
   "pygments_lexer": "ipython3",
   "version": "3.8.13"
  },
  "vscode": {
   "interpreter": {
    "hash": "037e69c1923dcf0b8666ecdd83659d01c0b7d734a9cc6b90c39fde9b58a036ff"
   }
  }
 },
 "nbformat": 4,
 "nbformat_minor": 2
}
